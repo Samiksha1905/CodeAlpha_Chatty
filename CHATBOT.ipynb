{
  "nbformat": 4,
  "nbformat_minor": 0,
  "metadata": {
    "colab": {
      "provenance": [],
      "authorship_tag": "ABX9TyPsx36BDkEXcFzJNMo8IAN1",
      "include_colab_link": true
    },
    "kernelspec": {
      "name": "python3",
      "display_name": "Python 3"
    },
    "language_info": {
      "name": "python"
    }
  },
  "cells": [
    {
      "cell_type": "markdown",
      "metadata": {
        "id": "view-in-github",
        "colab_type": "text"
      },
      "source": [
        "<a href=\"https://colab.research.google.com/github/Samiksha1905/CodeAlpha_Chatty/blob/main/CHATBOT.ipynb\" target=\"_parent\"><img src=\"https://colab.research.google.com/assets/colab-badge.svg\" alt=\"Open In Colab\"/></a>"
      ]
    },
    {
      "cell_type": "code",
      "execution_count": 1,
      "metadata": {
        "colab": {
          "base_uri": "https://localhost:8080/"
        },
        "id": "7GlGOOOjKDZY",
        "outputId": "a545f1ad-c39e-488c-cf22-83ce3eac408d"
      },
      "outputs": [
        {
          "output_type": "stream",
          "name": "stdout",
          "text": [
            "Hi! I'm Chatty 🤖. How can I help you today?\n",
            "You: hello\n",
            "Chatty: Hello there! 😊\n",
            "You: how are you\n",
            "Chatty: I'm just a bunch of code, but I'm doing great! How about you?\n",
            "You: your name\n",
            "Chatty: I'm Chatty, your friendly rule-based chatbot!\n",
            "You: ok\n",
            "Chatty: Hmm... I didn't quite get that. Can you try asking something else?\n",
            "You: help\n",
            "Chatty: You can ask me about greetings, my name, or just chat casually!\n",
            "You: bye\n",
            "Chatty: Goodbye! Have a great day! 👋\n"
          ]
        }
      ],
      "source": [
        "def greet():\n",
        "    print(\"Hi! I'm Chatty 🤖. How can I help you today?\")\n",
        "\n",
        "def respond(user_input):\n",
        "    user_input = user_input.lower()\n",
        "\n",
        "    if \"hello\" in user_input or \"hi\" in user_input:\n",
        "        return \"Hello there!😊\"\n",
        "    elif \"how are you\" in user_input:\n",
        "        return \"I'm just a bunch of code, but I'm doing great! How about you?\"\n",
        "    elif \"your name\" in user_input:\n",
        "        return \"I'm Chatty, your friendly rule-based chatbot!\"\n",
        "    elif \"bye\" in user_input or \"exit\" in user_input:\n",
        "        return \"Goodbye! Have a great day!👋\"\n",
        "    elif \"help\" in user_input:\n",
        "        return \"You can ask me about greetings, my name, or just chat casually!\"\n",
        "    else:\n",
        "        return \"Hmm... I didn't quite get that. Can you try asking something else?\"\n",
        "\n",
        "def chat():\n",
        "    greet()\n",
        "    while True:\n",
        "        user_input = input(\"You: \")\n",
        "        reply = respond(user_input)\n",
        "        print(\"Chatty:\", reply)\n",
        "        if \"bye\" in user_input.lower() or \"exit\" in user_input.lower():\n",
        "            break\n",
        "\n",
        "chat()"
      ]
    },
    {
      "cell_type": "code",
      "source": [],
      "metadata": {
        "id": "M_hp55HXKI49"
      },
      "execution_count": null,
      "outputs": []
    }
  ]
}